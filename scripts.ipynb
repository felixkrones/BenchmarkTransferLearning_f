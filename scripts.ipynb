{
 "cells": [
  {
   "cell_type": "code",
   "execution_count": null,
   "metadata": {},
   "outputs": [],
   "source": [
    "# Run ResNet50 on ChestXpert from ImageNet weights\n",
    "! python main_classification.py --data_set CheXpert \\\n",
    "--data_dir /Users/felixkrones/python_projects/data/ \\\n",
    "--model ResNet50 \\\n",
    "--mode test \\\n",
    "--resume True \\\n",
    "--init ImageNet \\\n",
    "--train_list dataset/CheXpert_train_official.csv \\\n",
    "--val_list dataset/CheXpert_valid_official.csv \\\n",
    "--test_list dataset/CheXpert_valid_official.csv \\\n",
    "--device mps \\\n",
    "--num_epoch 20 \\\n",
    "--batch_size 64"
   ]
  },
  {
   "cell_type": "code",
   "execution_count": null,
   "metadata": {},
   "outputs": [],
   "source": [
    "# Train ResNet50 on ChestXray14 from ImageNet weights\n",
    "! python main_classification.py --data_set ChestXray14 \\\n",
    "--data_dir /Users/felixkrones/python_projects/data/NIHChest14/images/ \\\n",
    "--model ResNet50 \\\n",
    "--mode train \\\n",
    "--resume True \\\n",
    "--init ImageNet \\\n",
    "--train_list dataset/Xray14_train_official.txt \\\n",
    "--val_list dataset/Xray14_val_official.txt \\\n",
    "--test_list dataset/Xray14_test_official.txt \\\n",
    "--device mps \\\n",
    "--num_epoch 20 \\\n",
    "--batch_size 64"
   ]
  },
  {
   "cell_type": "code",
   "execution_count": null,
   "metadata": {},
   "outputs": [],
   "source": [
    "# Test ResNet50 on CheXpert from ImageNet and ChestXray14 weights\n",
    "! python main_classification.py --data_set CheXpert \\\n",
    "--data_dir /Users/felixkrones/python_projects/data/ChestXpert/ \\\n",
    "--model ResNet50 \\\n",
    "--mode test \\\n",
    "--resume False \\\n",
    "--init ImageNet_chestxray14 \\\n",
    "--proxy_dir models/Classification/ChestXray14/ResNet50_ImageNet/ResNet50_ImageNet_run_0_best.pth.tar \\\n",
    "--train_list dataset/CheXpert_train_official.csv \\\n",
    "--val_list dataset/CheXpert_valid_official.csv \\\n",
    "--test_list dataset/CheXpert_valid_official.csv \\\n",
    "--device mps \\\n",
    "--num_epoch 1 \\\n",
    "--batch_size 64"
   ]
  },
  {
   "cell_type": "code",
   "execution_count": null,
   "metadata": {},
   "outputs": [],
   "source": [
    "# Train vit_small on ChestXray14 from ImageNet weights\n",
    "! python main_classification.py --data_set ChestXray14 \\\n",
    "--data_dir /Users/felixkrones/python_projects/data/NIHChest14/images/ \\\n",
    "--model vit_small \\\n",
    "--mode train \\\n",
    "--resume True \\\n",
    "--init ImageNet \\\n",
    "--train_list dataset/Xray14_train_official.txt \\\n",
    "--val_list dataset/Xray14_val_official.txt \\\n",
    "--test_list dataset/Xray14_test_official.txt \\\n",
    "--device mps \\\n",
    "--num_epoch 20 \\\n",
    "--batch_size 64"
   ]
  },
  {
   "cell_type": "code",
   "execution_count": null,
   "metadata": {},
   "outputs": [],
   "source": [
    "# Train vit_small on ChestXpert from ImageNet weights\n",
    "! python main_classification.py --data_set CheXpert \\\n",
    "--data_dir /home/ubuntu/data/ \\\n",
    "--model vit_small \\\n",
    "--mode train \\\n",
    "--resume True \\\n",
    "--init ImageNet \\\n",
    "--train_list dataset/CheXpert_train_official.csv \\\n",
    "--val_list dataset/CheXpert_valid_official.csv \\\n",
    "--test_list dataset/CheXpert_valid_official.csv \\\n",
    "--device mps \\\n",
    "--num_epoch 20 \\\n",
    "--batch_size 64"
   ]
  },
  {
   "cell_type": "code",
   "execution_count": null,
   "metadata": {},
   "outputs": [],
   "source": [
    "# Train vit_small on ChestXpert from GMML NIH weights\n",
    "! python main_classification.py --data_set CheXpert \\\n",
    "--data_dir /home/ubuntu/data/ \\\n",
    "--model vit_small \\\n",
    "--mode train \\\n",
    "--resume True \\\n",
    "--init gmml \\\n",
    "--proxy_dir models/gmml_1000e_nih.pth \\\n",
    "--train_list dataset/CheXpert_train_official.csv \\\n",
    "--val_list dataset/CheXpert_valid_official.csv \\\n",
    "--test_list dataset/CheXpert_valid_official.csv \\\n",
    "--device cuda \\\n",
    "--num_epoch 20 \\\n",
    "--batch_size 64"
   ]
  }
 ],
 "metadata": {
  "kernelspec": {
   "display_name": "pytorch",
   "language": "python",
   "name": "python3"
  },
  "language_info": {
   "codemirror_mode": {
    "name": "ipython",
    "version": 3
   },
   "file_extension": ".py",
   "mimetype": "text/x-python",
   "name": "python",
   "nbconvert_exporter": "python",
   "pygments_lexer": "ipython3",
   "version": "3.9.13"
  },
  "orig_nbformat": 4,
  "vscode": {
   "interpreter": {
    "hash": "2d58e898dde0263bc564c6968b04150abacfd33eed9b19aaa8e45c040360e146"
   }
  }
 },
 "nbformat": 4,
 "nbformat_minor": 2
}
