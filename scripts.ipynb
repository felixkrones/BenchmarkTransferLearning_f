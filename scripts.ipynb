{
 "cells": [
  {
   "cell_type": "code",
   "execution_count": null,
   "metadata": {},
   "outputs": [],
   "source": [
    "# Run ResNet50 on ChestXpert\n",
    "! python main_classification.py --data_set CheXpert \\\n",
    "--model ResNet50 \\\n",
    "--mode train \\\n",
    "--resume False \\\n",
    "--init ImageNet \\\n",
    "--train_list dataset/CheXpert_train_official.csv \\\n",
    "--val_list dataset/CheXpert_valid_official.csv \\\n",
    "--test_list dataset/CheXpert_valid_official.csv \\\n",
    "--device mps \\\n",
    "--num_epoch 30 \\\n",
    "--batch_size 64"
   ]
  },
  {
   "cell_type": "code",
   "execution_count": null,
   "metadata": {},
   "outputs": [],
   "source": [
    "# Run DenseNet121 on NIH\n",
    "! python main_classification.py --data_set ChestXray14 \\\n",
    "--model ResNet50 \\\n",
    "--mode test \\\n",
    "--resume False \\\n",
    "--init ImageNet \\\n",
    "--train_list dataset/Xray14_train_official.csv \\\n",
    "--val_list dataset/Xray14_valid_official.csv \\\n",
    "--test_list dataset/CheXpert_valid_official.csv \\\n",
    "--device mps \\\n",
    "--num_epoch 30 \\\n",
    "--batch_size 64"
   ]
  }
 ],
 "metadata": {
  "kernelspec": {
   "display_name": "BenchmarkTransferLearning-1YPCNYdk",
   "language": "python",
   "name": "python3"
  },
  "language_info": {
   "codemirror_mode": {
    "name": "ipython",
    "version": 3
   },
   "file_extension": ".py",
   "mimetype": "text/x-python",
   "name": "python",
   "nbconvert_exporter": "python",
   "pygments_lexer": "ipython3",
   "version": "3.9.16"
  },
  "orig_nbformat": 4,
  "vscode": {
   "interpreter": {
    "hash": "37f11bc3e11ffbe3c3868f7d7f972f16544583f8538523e0c66fba635d4598e1"
   }
  }
 },
 "nbformat": 4,
 "nbformat_minor": 2
}
