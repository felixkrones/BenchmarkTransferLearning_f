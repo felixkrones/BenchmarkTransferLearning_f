{
 "cells": [
  {
   "cell_type": "code",
   "execution_count": 11,
   "metadata": {},
   "outputs": [],
   "source": [
    "import os\n",
    "import numpy as np\n",
    "import pydicom as dicom\n",
    "import os\n",
    "import cv2\n",
    "from tqdm import tqdm"
   ]
  },
  {
   "attachments": {},
   "cell_type": "markdown",
   "metadata": {},
   "source": [
    "# Convert from dicom to jpg"
   ]
  },
  {
   "cell_type": "code",
   "execution_count": null,
   "metadata": {},
   "outputs": [],
   "source": [
    "# Define paths\n",
    "input_dic = \"/Users/felixkrones/python_projects/data/VinDrCXR/physionet.org/files/vindr-cxr/1.0.0/test/\"\n",
    "output_dic = \"/Users/felixkrones/python_projects/data/VinDrCXR/test_jpg\""
   ]
  },
  {
   "cell_type": "code",
   "execution_count": null,
   "metadata": {},
   "outputs": [],
   "source": [
    "# Get images\n",
    "file_list = [f for f in os.listdir(input_dic) if f.endswith(\".dicom\") and not f.startswith(\".\")]"
   ]
  },
  {
   "cell_type": "code",
   "execution_count": null,
   "metadata": {},
   "outputs": [],
   "source": [
    "# Convert images\n",
    "if not os.path.exists(output_dic):\n",
    "    os.makedirs(output_dic)\n",
    "for f in tqdm(file_list):\n",
    "    ds = dicom.dcmread(os.path.join(input_dic, f))\n",
    "    pixel_array_numpy = ds.pixel_array\n",
    "    f = f.replace('.dicom', '.jpg')\n",
    "    output_path = os.path.join(output_dic, f)\n",
    "    new_values = pixel_array_numpy/(np.max(pixel_array_numpy)/255)\n",
    "    cv2.imwrite(output_path, new_values)"
   ]
  }
 ],
 "metadata": {
  "kernelspec": {
   "display_name": "ssl_benchmark_disease_diagnosis-TH-5Rskg",
   "language": "python",
   "name": "python3"
  },
  "language_info": {
   "codemirror_mode": {
    "name": "ipython",
    "version": 3
   },
   "file_extension": ".py",
   "mimetype": "text/x-python",
   "name": "python",
   "nbconvert_exporter": "python",
   "pygments_lexer": "ipython3",
   "version": "3.9.16"
  },
  "orig_nbformat": 4
 },
 "nbformat": 4,
 "nbformat_minor": 2
}
