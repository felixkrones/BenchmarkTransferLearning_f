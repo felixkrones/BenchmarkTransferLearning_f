{
 "cells": [
  {
   "attachments": {},
   "cell_type": "markdown",
   "metadata": {},
   "source": [
    "---------------------\n",
    "# NIH benchmark\n",
    "---------------------"
   ]
  },
  {
   "cell_type": "code",
   "execution_count": null,
   "metadata": {},
   "outputs": [],
   "source": [
    "# 0.1, imagenet pre-trained, 20 epochs fine-tuning\n",
    "! python main_classification.py --data_set ChestXray14 \\\n",
    "--data_dir /Users/felixkrones/python_projects/data/NIHChest14/images/ \\\n",
    "--model ResNet50 \\\n",
    "--mode train \\\n",
    "--resume True \\\n",
    "--init imagenet \\\n",
    "--train_list dataset/Xray14_train_official.txt \\\n",
    "--val_list dataset/Xray14_val_official.txt \\\n",
    "--test_list dataset/Xray14_test_official.txt \\\n",
    "--device cuda \\\n",
    "--num_epoch 20 \\\n",
    "--batch_size 64"
   ]
  },
  {
   "cell_type": "code",
   "execution_count": null,
   "metadata": {},
   "outputs": [],
   "source": [
    "# 0.2, imagenet pre-trained, 20 epochs fine-tuning\n",
    "! python main_classification.py --data_set ChestXray14 \\\n",
    "--data_dir /Users/felixkrones/python_projects/data/NIHChest14/images/ \\\n",
    "--model vit_small \\\n",
    "--mode train \\\n",
    "--resume True \\\n",
    "--init imagenet \\\n",
    "--train_list dataset/Xray14_train_official.txt \\\n",
    "--val_list dataset/Xray14_val_official.txt \\\n",
    "--test_list dataset/Xray14_test_official.txt \\\n",
    "--device cuda \\\n",
    "--num_epoch 20 \\\n",
    "--batch_size 64"
   ]
  },
  {
   "cell_type": "code",
   "execution_count": null,
   "metadata": {},
   "outputs": [],
   "source": [
    "# 0.3, nih-pretrained, 20 epochs fine-tuning\n",
    "! python main_classification.py --data_set ChestXray14 \\\n",
    "--data_dir /home/ubuntu/data/NIHChest14/images/ \\\n",
    "--model ResNet50 \\\n",
    "--mode train \\\n",
    "--resume True \\\n",
    "--init moco_v3 \\\n",
    "--proxy_dir /home/ubuntu/models/moco_v3_r50_99e_nih_deit_prepped.pth \\\n",
    "--train_list dataset/Xray14_train_official.txt \\\n",
    "--val_list dataset/Xray14_val_official.txt \\\n",
    "--test_list dataset/Xray14_test_official.txt \\\n",
    "--device cuda \\\n",
    "--epochs 20 \\\n",
    "--batch_size 64"
   ]
  },
  {
   "cell_type": "code",
   "execution_count": null,
   "metadata": {},
   "outputs": [],
   "source": [
    "# 0.4, nih-pretrained, 20 epochs fine-tuning\n",
    "! python main_classification.py --data_set ChestXray14 \\\n",
    "--data_dir /home/ubuntu/data/NIHChest14/images/ \\\n",
    "--model vit_small \\\n",
    "--mode train \\\n",
    "--resume True \\\n",
    "--init moco_v3 \\\n",
    "--proxy_dir /home/ubuntu/models/moco_v3_vit_small_99e_nih_deit.pth \\\n",
    "--train_list dataset/Xray14_train_official.txt \\\n",
    "--val_list dataset/Xray14_val_official.txt \\\n",
    "--test_list dataset/Xray14_test_official.txt \\\n",
    "--device cuda \\\n",
    "--epochs 20 \\\n",
    "--batch_size 64"
   ]
  },
  {
   "cell_type": "code",
   "execution_count": null,
   "metadata": {},
   "outputs": [],
   "source": [
    "# 0.5, nih-pretrained, 20 epochs fine-tuning\n",
    "! python main_classification.py --data_set ChestXray14 \\\n",
    "--data_dir /Users/felixkrones/python_projects/data/NIHChest14/images/ \\\n",
    "--model vit_small \\\n",
    "--mode train \\\n",
    "--resume True \\\n",
    "--init gmml \\\n",
    "--proxy_dir models/gmml_1000e_nih.pth \\\n",
    "--train_list dataset/Xray14_train_official.txt \\\n",
    "--val_list dataset/Xray14_val_official.txt \\\n",
    "--test_list dataset/Xray14_test_official.txt \\\n",
    "--device cuda \\\n",
    "--num_epoch 20 \\\n",
    "--batch_size 64"
   ]
  },
  {
   "attachments": {},
   "cell_type": "markdown",
   "metadata": {},
   "source": [
    "---------------------\n",
    "# ImageNet1k benchmark\n",
    "---------------------"
   ]
  },
  {
   "cell_type": "code",
   "execution_count": null,
   "metadata": {},
   "outputs": [],
   "source": []
  }
 ],
 "metadata": {
  "kernelspec": {
   "display_name": "pytorch",
   "language": "python",
   "name": "python3"
  },
  "language_info": {
   "codemirror_mode": {
    "name": "ipython",
    "version": 3
   },
   "file_extension": ".py",
   "mimetype": "text/x-python",
   "name": "python",
   "nbconvert_exporter": "python",
   "pygments_lexer": "ipython3",
   "version": "3.9.13"
  },
  "orig_nbformat": 4,
  "vscode": {
   "interpreter": {
    "hash": "2d58e898dde0263bc564c6968b04150abacfd33eed9b19aaa8e45c040360e146"
   }
  }
 },
 "nbformat": 4,
 "nbformat_minor": 2
}
