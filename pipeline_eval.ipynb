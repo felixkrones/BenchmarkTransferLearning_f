{
 "cells": [
  {
   "attachments": {},
   "cell_type": "markdown",
   "id": "6527b5ae",
   "metadata": {
    "tags": []
   },
   "source": [
    "# Evaluation"
   ]
  },
  {
   "cell_type": "code",
   "execution_count": null,
   "id": "58f71de5",
   "metadata": {},
   "outputs": [],
   "source": [
    "import json\n",
    "from main_classification import get_args_parser\n",
    "import torch.backends.cudnn as cudnn\n",
    "from torch.utils.data import DataLoader\n",
    "\n",
    "from trainer import test_classification\n",
    "from evaluation.plex_metrics import plex_evaluate\n",
    "from dataloader import  *\n",
    "from utils import metric_AUROC"
   ]
  },
  {
   "cell_type": "code",
   "execution_count": null,
   "id": "4c75d164",
   "metadata": {},
   "outputs": [],
   "source": [
    "# Parameters\n",
    "args = get_args_parser(main_args=False).get_default_values()\n",
    "args.device = \"mps\"\n",
    "args.data_dir = \"/Users/felixkrones/python_projects/data/ChestXpert/\" # /Users/felixkrones/python_projects/data/NIH/images/ /Users/felixkrones/python_projects/data/ChestXpert/ /Users/felixkrones/python_projects/data/Padchest/0/\n",
    "args.test_list = \"dataset/CheXpert_valid_official_frontal.csv\" # dataset/Xray14_test_official.txt CheXpert_valid_official_frontal.csv CheXpert_test_Glocker.csv PADCHEST_chest_x_ray_images_labels_160K_01.02.19.csv\n",
    "args.metadata_file = \"\"\n",
    "args.model_name = \"vit_small\"\n",
    "args.proxy_dir = \"/Users/felixkrones/python_projects/models/gmml_nih1000e_timm_run_4_best.pth.tar\"\n",
    "diseases_model = ['Atelectasis', 'Cardiomegaly', 'Effusion', 'Infiltration', 'Mass', 'Nodule',\n",
    "                    'Pneumonia', 'Pneumothorax', 'Consolidation', 'Edema',\n",
    "                    'Emphysema', 'Fibrosis', 'Pleural_Thickening', 'Hernia']\n",
    "diseases_to_test = [\"Atelectasis\", \"Cardiomegaly\", \"Consolidation\", \"Edema\", \"Pneumonia\", \"Pneumothorax\"]\n",
    "index_to_test_model = [diseases_model.index(disease) for disease in diseases_to_test]"
   ]
  },
  {
   "cell_type": "code",
   "execution_count": null,
   "id": "b588b9ff",
   "metadata": {},
   "outputs": [],
   "source": [
    "# Define eval params\n",
    "eval_params = {\n",
    "  \"decision_threshold\": 0.5,\n",
    "  \"selective_threshold\": 0.1,\n",
    "  \"independent_reg_variable\": \"StudyDate\",\n",
    "  \"subpopulation_groups\": [\"sex_label\", \"race_label\", \"age_binned\"],\n",
    "  \"ece_num_bins\": 15,\n",
    "}"
   ]
  },
  {
   "cell_type": "code",
   "execution_count": null,
   "id": "3358d7a5",
   "metadata": {},
   "outputs": [],
   "source": [
    "# Get data\n",
    "if \"nih\" in args.data_dir.lower():\n",
    "    dataset_test = ChestXray14Dataset(images_path=args.data_dir, file_path=args.test_list, augment=build_transform_classification(normalize=args.normalization, mode=\"test\", test_augment=args.test_augment))\n",
    "    diseases = ['Atelectasis', 'Cardiomegaly', 'Effusion', 'Infiltration', 'Mass', 'Nodule',\n",
    "                    'Pneumonia', 'Pneumothorax', 'Consolidation', 'Edema',\n",
    "                    'Emphysema', 'Fibrosis', 'Pleural_Thickening', 'Hernia']\n",
    "    index_to_test_dataset = [diseases.index(disease) for disease in diseases_to_test]\n",
    "elif \"chestxpert\" in args.data_dir.lower():\n",
    "    dataset_test = CheXpertDataset(images_path=args.data_dir, file_path=args.test_list, augment=build_transform_classification(normalize=args.normalization, mode=\"test\", test_augment=args.test_augment))\n",
    "    diseases = ['No Finding', 'Enlarged Cardiomediastinum', 'Cardiomegaly', 'Lung Opacity',\n",
    "                           'Lung Lesion', 'Edema', 'Consolidation', 'Pneumonia', 'Atelectasis', 'Pneumothorax',\n",
    "                           'Pleural Effusion', 'Pleural Other', 'Fracture', 'Support Devices']\n",
    "    index_to_test_dataset = [diseases.index(disease) for disease in diseases_to_test]\n",
    "elif \"padchest\" in args.data_dir.lower():\n",
    "    diseases_to_test = [disease.replace(\"Edema\", \"Pulmonary Edema\") for disease in diseases_to_test]\n",
    "    dataset_test = PadchestDataset(images_path=args.data_dir, file_path=args.test_list, augment=build_transform_classification(normalize=args.normalization, mode=\"test\", test_augment=args.test_augment), diseases_to_test=diseases_to_test)\n",
    "    diseases = dataset_test.possible_labels\n",
    "    index_to_test_dataset = [diseases.tolist().index(disease.lower()) for disease in diseases_to_test]\n",
    "else:\n",
    "    raise ValueError(f\"Dataset {args.data_dir} not supported\")\n",
    "print(f\"Dataset size: {len(dataset_test)}\")\n",
    "print(f\"index_to_test_dataset: {index_to_test_dataset}\")\n",
    "print(f\"index_to_test_model: {index_to_test_model}\")\n",
    "if not len(diseases_to_test)==len(index_to_test_dataset):\n",
    "    print(f\"len(index_to_test_dataset): {len(index_to_test_dataset)}\")\n",
    "    print(f\"len(diseases_to_test): {len(diseases_to_test)}\")\n",
    "    raise ValueError(\"Number of classes does not match the number of diseases to test\")"
   ]
  },
  {
   "cell_type": "code",
   "execution_count": null,
   "id": "8750ec16",
   "metadata": {},
   "outputs": [],
   "source": [
    "# Get dataloader and model\n",
    "device = torch.device(args.device)\n",
    "cudnn.benchmark = True\n",
    "data_loader_test = DataLoader(dataset=dataset_test, batch_size=args.batch_size, shuffle=False,\n",
    "                                num_workers=args.workers, pin_memory=True)\n",
    "saved_model = os.path.join(args.proxy_dir)"
   ]
  },
  {
   "cell_type": "code",
   "execution_count": null,
   "id": "39723d29",
   "metadata": {},
   "outputs": [],
   "source": [
    "# Get predictions\n",
    "y_test, p_test = test_classification(saved_model, data_loader_test, device, args)"
   ]
  },
  {
   "cell_type": "code",
   "execution_count": null,
   "id": "10c00c7a",
   "metadata": {},
   "outputs": [],
   "source": [
    "# Filter predictions\n",
    "y_test_filtered = y_test[:, index_to_test_dataset]\n",
    "p_test_filtered = p_test[:, index_to_test_model]"
   ]
  },
  {
   "cell_type": "code",
   "execution_count": null,
   "id": "4137e4f4",
   "metadata": {},
   "outputs": [],
   "source": [
    "# Default metrics\n",
    "all_results = metric_AUROC(y_test_filtered, p_test_filtered, len(diseases_to_test))\n",
    "mean_over_all_classes = np.array(all_results).mean()\n",
    "print(round(mean_over_all_classes, 4))"
   ]
  },
  {
   "cell_type": "code",
   "execution_count": null,
   "id": "56fd5237",
   "metadata": {},
   "outputs": [],
   "source": [
    "# Evaluate\n",
    "eval_metrics = plex_evaluate(\n",
    "    preds=p_test_filtered.cpu().numpy(),\n",
    "    target_labels=y_test_filtered.cpu().numpy(),\n",
    "    eval_args=eval_params,\n",
    "    meta_data=pd.read_csv(args.metadata_file) if args.metadata_file else None,\n",
    "    classes=diseases_to_test,\n",
    "    underdiagnosis_label=\"No Finding\",\n",
    ")"
   ]
  },
  {
   "cell_type": "code",
   "execution_count": null,
   "id": "8d7940cf",
   "metadata": {},
   "outputs": [],
   "source": [
    "for key, value in eval_metrics.items():\n",
    "    print(f\"{key}: {value}\")"
   ]
  },
  {
   "cell_type": "code",
   "execution_count": null,
   "id": "574f64c2",
   "metadata": {},
   "outputs": [],
   "source": [
    "# Export\n",
    "output_path = \"./Outputs/Classification\", args.test_list.split('/')[-1].split('.')[0]\n",
    "output_file = os.path.join(output_path, f\"{args.proxy_dir.split('/')[-1].split('.')[0]}_popar_results.txt\")\n",
    "if not os.path.exists('/'.join(output_file.split('/')[:-1])):\n",
    "    os.makedirs(output_path)\n",
    "with open(output_file, \"w\") as f:\n",
    "    json.dump(eval_metrics, f, indent=4)"
   ]
  }
 ],
 "metadata": {
  "instance_type": "ml.g4dn.xlarge",
  "kernelspec": {
   "display_name": "ssl_benchmark_disease_diagnosis-TH-5Rskg",
   "language": "python",
   "name": "python3"
  },
  "language_info": {
   "codemirror_mode": {
    "name": "ipython",
    "version": 3
   },
   "file_extension": ".py",
   "mimetype": "text/x-python",
   "name": "python",
   "nbconvert_exporter": "python",
   "pygments_lexer": "ipython3",
   "version": "3.9.16"
  },
  "vscode": {
   "interpreter": {
    "hash": "118298914120c3bed14e6c153d818e4458def201929d094e31dfc514a45929f4"
   }
  }
 },
 "nbformat": 4,
 "nbformat_minor": 5
}
