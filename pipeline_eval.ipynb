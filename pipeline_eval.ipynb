{
 "cells": [
  {
   "attachments": {},
   "cell_type": "markdown",
   "id": "6527b5ae",
   "metadata": {
    "tags": []
   },
   "source": [
    "# Evaluation"
   ]
  },
  {
   "cell_type": "code",
   "execution_count": null,
   "id": "58f71de5",
   "metadata": {},
   "outputs": [],
   "source": [
    "import json\n",
    "from main_classification import get_args_parser\n",
    "import torch.backends.cudnn as cudnn\n",
    "from torch.utils.data import DataLoader\n",
    "\n",
    "from trainer import test_classification\n",
    "from evaluation.plex_metrics import plex_evaluate\n",
    "from dataloader import  *"
   ]
  },
  {
   "cell_type": "code",
   "execution_count": null,
   "id": "4c75d164",
   "metadata": {},
   "outputs": [],
   "source": [
    "# Parameters\n",
    "args = get_args_parser()\n",
    "args.dataset = \"ChestXray14\"\n",
    "args.data_dir = \"/home/ubuntu/data/NIHChest14/images/\"\n",
    "args.test_list = \"dataset/Xray14_test_official.txt\"\n",
    "args.metadata_file = \"\"\n",
    "args.model = \"ResNet50\"\n",
    "args.proxy_dir = \"/home/ubuntu/models/moco_v3_r50_99e_nih_deit_prepped.pth\""
   ]
  },
  {
   "cell_type": "code",
   "execution_count": null,
   "id": "dfc34170",
   "metadata": {},
   "outputs": [],
   "source": [
    "# Define diseases\n",
    "diseases = [\"Atelectasis\", \"Cardiomegaly\", \"Consolidation\", \"Edema\", \"Pneumonia\", \"Pneumothorax\", 'No Finding']"
   ]
  },
  {
   "cell_type": "code",
   "execution_count": null,
   "id": "b588b9ff",
   "metadata": {},
   "outputs": [],
   "source": [
    "# Define eval params\n",
    "eval_params = {\n",
    "  \"selective_threshold\": 0.1,\n",
    "  \"independent_reg_variable\": \"StudyDate\",\n",
    "  \"subpopulation_groups\": [\"sex_label\", \"race_label\", \"age_binned\"],\n",
    "  \"ece_num_bins\": 15,\n",
    "}"
   ]
  },
  {
   "cell_type": "code",
   "execution_count": null,
   "id": "3358d7a5",
   "metadata": {},
   "outputs": [],
   "source": [
    "# Get data\n",
    "if args.data_set == \"ChestXray14\":\n",
    "    dataset_test = dataset_test = ChestXray14Dataset_general(images_path=args.data_dir, file_path=args.test_list,augment=build_transform_classification(normalize=args.normalization, mode=\"test\", test_augment=args.test_augment), possible_labels=diseases)\n",
    "elif args.data_set == \"CheXpert\":\n",
    "    dataset_test = CheXpertDataset(images_path=args.data_dir, file_path=args.test_list, augment=build_transform_classification(normalize=args.normalization, mode=\"test\", test_augment=args.test_augment, nc=args.nc), uncertain_label=args.uncertain_label, unknown_label=args.unknown_label, nc=args.nc)\n",
    "elif args.data_set == \"padchest\":\n",
    "    dataset_test = PadchestDataset(images_path=args.data_dir, file_path=args.test_list, augment=build_transform_classification(normalize=args.normalization, mode=\"test\", test_augment=args.test_augment))"
   ]
  },
  {
   "cell_type": "code",
   "execution_count": null,
   "id": "8750ec16",
   "metadata": {},
   "outputs": [],
   "source": [
    "# Get dataloader and model\n",
    "device = torch.device(args.device)\n",
    "cudnn.benchmark = True\n",
    "data_loader_test = DataLoader(dataset=dataset_test, batch_size=args.batch_size, shuffle=False,\n",
    "                                num_workers=args.workers, pin_memory=True)\n",
    "saved_model = os.path.join(args.proxy_dir)"
   ]
  },
  {
   "cell_type": "code",
   "execution_count": null,
   "id": "39723d29",
   "metadata": {},
   "outputs": [],
   "source": [
    "# Get predictions\n",
    "y_test, p_test = test_classification(saved_model, data_loader_test, device, args)\n"
   ]
  },
  {
   "cell_type": "code",
   "execution_count": null,
   "id": "56fd5237",
   "metadata": {},
   "outputs": [],
   "source": [
    "# Evaluate\n",
    "eval_metrics = plex_evaluate(\n",
    "    p_out=p_test,\n",
    "    target_labels=y_test,\n",
    "    eval_args=eval_params[\"eval_args\"],\n",
    "    meta_data=pd.read(args.metadata_file),\n",
    "    classes=diseases,\n",
    "    underdiagnosis_label=\"No Finding\",\n",
    ")\n",
    "print(eval_metrics)"
   ]
  },
  {
   "cell_type": "code",
   "execution_count": null,
   "id": "574f64c2",
   "metadata": {},
   "outputs": [],
   "source": [
    "# Export\n",
    "output_path = \"./Outputs/Classification\", args.test_list.split('/')[-1].split('.')[0]\n",
    "output_file = os.path.join(output_path, f\"{args.proxy_dir.split('/')[-1].split('.')[0]}_popar_results.txt\")\n",
    "if not os.path.exists('/'.join(output_file.split('/')[:-1])):\n",
    "    os.makedirs(output_path)\n",
    "with open(output_file, \"w\") as f:\n",
    "    json.dump(eval_metrics, f, indent=4)"
   ]
  }
 ],
 "metadata": {
  "instance_type": "ml.g4dn.xlarge",
  "kernelspec": {
   "display_name": "ssl_benchmark_disease_diagnosis-TH-5Rskg",
   "language": "python",
   "name": "python3"
  },
  "language_info": {
   "codemirror_mode": {
    "name": "ipython",
    "version": 3
   },
   "file_extension": ".py",
   "mimetype": "text/x-python",
   "name": "python",
   "nbconvert_exporter": "python",
   "pygments_lexer": "ipython3",
   "version": "3.9.16"
  },
  "vscode": {
   "interpreter": {
    "hash": "118298914120c3bed14e6c153d818e4458def201929d094e31dfc514a45929f4"
   }
  }
 },
 "nbformat": 4,
 "nbformat_minor": 5
}
